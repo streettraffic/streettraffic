{
 "cells": [
  {
   "cell_type": "markdown",
   "metadata": {},
   "source": [
    "# Tutorial\n",
    "\n",
    "In this Chapter, we are going to setup a Histraffic Server\n",
    "\n",
    "## Install Rethinkdb\n",
    "\n",
    "#### Install Rethinkdb Server\n",
    "\n",
    "https://rethinkdb.com/docs/install/ This link provides very straight forward insturctions on how to setup RethinkDB server. Simply follow those steps and you will be ok.\n",
    "\n",
    "#### Install Rethinkdb Client\n",
    "\n",
    "Our program uses Rethinkdb Python Client. Follow the instructions on https://rethinkdb.com/docs/install-drivers/python/ and install it.\n",
    "\n",
    "## Install the source Code\n",
    "\n",
    "First clone the source code\n",
    "```\n",
    "git clone..\n",
    "python setup.py install\n",
    "```\n",
    "\n",
    "## Run\n",
    "\n",
    "Run the file in interactive shell"
   ]
  },
  {
   "cell_type": "code",
   "execution_count": null,
   "metadata": {
    "collapsed": true
   },
   "outputs": [],
   "source": [
    "from histraffic import tools\n",
    "from histraffic.map_resource import ultil\n",
    "from histraffic.database import TrafficData\n",
    "from histraffic.server import TrafficServer\n",
    "\n",
    "# use a geojson polygon encoded area of interest\n",
    "atlanta_downtown_polygon = ultil.read_geojson_polygon('{ \"type\": \"FeatureCollection\", \"features\": [ { \"type\": \"Feature\", \"geometry\": { \"type\": \"Polygon\", \"coordinates\": [ [ [ -84.3980884552002, 33.75988300332898 ], [ -84.38375473022461, 33.7645924612227 ], [ -84.37156677246094, 33.75495920249714 ], [ -84.38263893127441, 33.74404020060446 ], [ -84.40718650817871, 33.747109080164385 ], [ -84.3980884552002, 33.75988300332898 ] ] ] }, \"properties\": {} } ] }')\n",
    "traffic_matrix_list = [ultil.get_area_tile_matrix_url(\"traffic_json\", atlanta_downtown_polygon, 14, True)]\n",
    "\n",
    "# initialize the histraffic server\n",
    "# if this is your first time, running, histraffic_server will automatically create a *database_name*\n",
    "# database for you\n",
    "histraffic_server = TestTrafficServer(database_name= \"Traffic\", database_ip = \"localhost\")\n",
    "histraffic_server.traffic_matrix_list = traffic_matrix_list\n",
    "histraffic_server.start()"
   ]
  },
  {
   "cell_type": "markdown",
   "metadata": {},
   "source": [
    "## Yep, that's it"
   ]
  }
 ],
 "metadata": {
  "kernelspec": {
   "display_name": "Python 3",
   "language": "python",
   "name": "python3"
  },
  "language_info": {
   "codemirror_mode": {
    "name": "ipython",
    "version": 3
   },
   "file_extension": ".py",
   "mimetype": "text/x-python",
   "name": "python",
   "nbconvert_exporter": "python",
   "pygments_lexer": "ipython3",
   "version": "3.6.1"
  }
 },
 "nbformat": 4,
 "nbformat_minor": 2
}
