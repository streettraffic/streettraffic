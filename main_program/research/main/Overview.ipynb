{
 "cells": [
  {
   "cell_type": "markdown",
   "metadata": {},
   "source": [
    "# Introduction\n",
    "\n",
    "Costa Huang, Dr. Chris Healy\n",
    "\n",
    "In the field of navigation technology, apps such as Google Maps focus on recommending the shortest and fastest path for travel, but they fail to give advice on when it would be best to embark on the trip, which could be important. For example, weekends usually have more traffic than weekdays for certain highways and vice versa. By visualzing historical traffic data, Histraffic.org can give travel recommendation for the user.\n",
    "\n",
    "## Data Source\n",
    "\n",
    "After extensive search, we found there are primarily two kinds of traffic data source\n",
    "\n",
    "* State Level Source\n",
    "    * SCDOT(http://www.scdot.org/getting/trafficcounts.aspx)\n",
    "    * NYDOT(https://www.dot.ny.gov/highway-data-services)\n",
    "    * 511Virginia(http://www.511virginia.org)\n",
    "    * ...\n",
    "    \n",
    "    \n",
    "* Big Companies (commercial solution)\n",
    "    * Google Maps(https://developers.google.com/maps/)\n",
    "    * Here Maps(https://developer.here.com/)\n",
    "    * INRIX(http://inrix.com/) (Unfortunately, it does not provide traffic data API anymore)\n",
    "        \n",
    "### State data\n",
    "\n",
    "Though some DOTs from various states offered free traffic data, they usually have different data format and availability. For example, FDOT offered Shape files that can be imported to GIS system(http://www.fdot.gov/planning/statistics/gis/trafficdata.shtm) while SCDOT provided click-and-retrieve traffic data(http://dbw.scdot.org/Poll5WebAppPublic/wfrm/wfrmHomePage.aspx). It didn't take long for us to conclude that using state data would be a bad idea. \n",
    "\n",
    "### Google Map\n",
    "\n",
    "Goolge Map appeared to be attractive at a first glance: it had a traffic layer to receive live traffic flow data (https://developers.google.com/maps/documentation/javascript/examples/layer-traffic). Unfortunately, its code was obfuscated and Google Map didn't provide any data-level API related to traffic. \n",
    "\n",
    "### Our Choice\n",
    "\n",
    "Here Map, on the other hand, provides a nice REST API on traffic data. An example of the data can be found in their example at https://developer.here.com/rest-apis/documentation/traffic/topics_v6.1/example-flow.html. The explanation of the data can be found in **todo**\n"
   ]
  }
 ],
 "metadata": {
  "kernelspec": {
   "display_name": "Python 3",
   "language": "python",
   "name": "python3"
  },
  "language_info": {
   "codemirror_mode": {
    "name": "ipython",
    "version": 3
   },
   "file_extension": ".py",
   "mimetype": "text/x-python",
   "name": "python",
   "nbconvert_exporter": "python",
   "pygments_lexer": "ipython3",
   "version": "3.6.1"
  }
 },
 "nbformat": 4,
 "nbformat_minor": 2
}
