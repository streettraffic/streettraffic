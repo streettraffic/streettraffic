{
 "cells": [
  {
   "cell_type": "markdown",
   "metadata": {},
   "source": [
    "# Introduction\n",
    "\n",
    "Costa Huang, Dr. Chris Healy\n",
    "\n",
    "In the field of navigation technology, apps such as Google Maps focus on recommending the shortest and fastest path for travel, but they fail to give advice on when it would be best to embark on the trip, which could be important. For example, weekends usually have more traffic than weekdays for certain highways and vice versa. By visualzing historical traffic data, Histraffic.org can give travel recommendation for the user.\n",
    "\n",
    "## Data Source\n",
    "\n",
    "After extensive search, we found there are primarily two kinds of traffic data source\n",
    "* State Collected Data\n",
    "* Big Companies\n",
    "    * Google Maps(https://developers.google.com/maps/)\n",
    "    * Here Maps(https://developer.here.com/)\n",
    "    * INRIX(http://inrix.com/)\n",
    "\n",
    "After The main data provider is https://developer.here.com/. "
   ]
  }
 ],
 "metadata": {
  "kernelspec": {
   "display_name": "Python 3",
   "language": "python",
   "name": "python3"
  },
  "language_info": {
   "codemirror_mode": {
    "name": "ipython",
    "version": 3
   },
   "file_extension": ".py",
   "mimetype": "text/x-python",
   "name": "python",
   "nbconvert_exporter": "python",
   "pygments_lexer": "ipython3",
   "version": "3.6.1"
  }
 },
 "nbformat": 4,
 "nbformat_minor": 2
}
