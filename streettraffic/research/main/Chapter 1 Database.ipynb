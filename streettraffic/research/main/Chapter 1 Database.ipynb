{
 "cells": [
  {
   "cell_type": "markdown",
   "metadata": {},
   "source": [
    "# Chapter 1. Database\n",
    "\n",
    "We chose RethinkDB as our underlying database because it had some nice geospatial features and it was easy to use. \n",
    "\n",
    "## 1.1 Schema\n",
    "\n",
    "Before we talk about the schema design, let's take a look at a source traffic data from Here Map. \n",
    "\n",
    "https://developer.here.com/rest-apis/documentation/traffic/topics_v6.1/example-flow.html\n",
    "\n",
    "\n",
    "need a graph here\n",
    "\n"
   ]
  }
 ],
 "metadata": {
  "kernelspec": {
   "display_name": "Python 3",
   "language": "python",
   "name": "python3"
  },
  "language_info": {
   "codemirror_mode": {
    "name": "ipython",
    "version": 3
   },
   "file_extension": ".py",
   "mimetype": "text/x-python",
   "name": "python",
   "nbconvert_exporter": "python",
   "pygments_lexer": "ipython3",
   "version": "3.6.1"
  }
 },
 "nbformat": 4,
 "nbformat_minor": 2
}
